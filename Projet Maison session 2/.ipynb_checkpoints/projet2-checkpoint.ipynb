{
 "cells": [
  {
   "cell_type": "markdown",
   "metadata": {},
   "source": [
    "\n",
    "# Projet 2"
   ]
  },
  {
   "cell_type": "code",
   "execution_count": 1,
   "metadata": {
    "scrolled": false
   },
   "outputs": [],
   "source": [
    "# import des modules usuels\n",
    "import numpy as np\n",
    "import pandas as pd\n",
    "\n",
    "# options d'affichage\n",
    "pd.set_option(\"display.min_rows\", 16)"
   ]
  },
  {
   "cell_type": "code",
   "execution_count": 2,
   "metadata": {
    "scrolled": true
   },
   "outputs": [
    {
     "data": {
      "text/html": [
       "<div>\n",
       "<style scoped>\n",
       "    .dataframe tbody tr th:only-of-type {\n",
       "        vertical-align: middle;\n",
       "    }\n",
       "\n",
       "    .dataframe tbody tr th {\n",
       "        vertical-align: top;\n",
       "    }\n",
       "\n",
       "    .dataframe thead th {\n",
       "        text-align: right;\n",
       "    }\n",
       "</style>\n",
       "<table border=\"1\" class=\"dataframe\">\n",
       "  <thead>\n",
       "    <tr style=\"text-align: right;\">\n",
       "      <th></th>\n",
       "      <th>Code Postal</th>\n",
       "      <th>Commune</th>\n",
       "      <th>Département</th>\n",
       "      <th>Région</th>\n",
       "      <th>Statut</th>\n",
       "      <th>Altitude Moyenne</th>\n",
       "      <th>Superficie</th>\n",
       "      <th>Population</th>\n",
       "      <th>geo_point_2d</th>\n",
       "      <th>geo_shape</th>\n",
       "      <th>Latitude</th>\n",
       "      <th>Longitude</th>\n",
       "    </tr>\n",
       "    <tr>\n",
       "      <th>Code INSEE</th>\n",
       "      <th></th>\n",
       "      <th></th>\n",
       "      <th></th>\n",
       "      <th></th>\n",
       "      <th></th>\n",
       "      <th></th>\n",
       "      <th></th>\n",
       "      <th></th>\n",
       "      <th></th>\n",
       "      <th></th>\n",
       "      <th></th>\n",
       "      <th></th>\n",
       "    </tr>\n",
       "  </thead>\n",
       "  <tbody>\n",
       "    <tr>\n",
       "      <td>01001</td>\n",
       "      <td>01400</td>\n",
       "      <td>L'ABERGEMENT-CLEMENCIAT</td>\n",
       "      <td>AIN</td>\n",
       "      <td>RHONE-ALPES</td>\n",
       "      <td>Commune simple</td>\n",
       "      <td>242.0</td>\n",
       "      <td>1565.0</td>\n",
       "      <td>0.8</td>\n",
       "      <td>46.1534255214, 4.92611354223</td>\n",
       "      <td>{\"type\": \"Polygon\", \"coordinates\": [[[4.926273...</td>\n",
       "      <td>46.153426</td>\n",
       "      <td>4.926114</td>\n",
       "    </tr>\n",
       "    <tr>\n",
       "      <td>01002</td>\n",
       "      <td>01640</td>\n",
       "      <td>L'ABERGEMENT-DE-VAREY</td>\n",
       "      <td>AIN</td>\n",
       "      <td>RHONE-ALPES</td>\n",
       "      <td>Commune simple</td>\n",
       "      <td>483.0</td>\n",
       "      <td>912.0</td>\n",
       "      <td>0.2</td>\n",
       "      <td>46.0091878776, 5.42801696363</td>\n",
       "      <td>{\"type\": \"Polygon\", \"coordinates\": [[[5.430089...</td>\n",
       "      <td>46.009188</td>\n",
       "      <td>5.428017</td>\n",
       "    </tr>\n",
       "    <tr>\n",
       "      <td>01004</td>\n",
       "      <td>01500</td>\n",
       "      <td>AMBERIEU-EN-BUGEY</td>\n",
       "      <td>AIN</td>\n",
       "      <td>RHONE-ALPES</td>\n",
       "      <td>Chef-lieu canton</td>\n",
       "      <td>379.0</td>\n",
       "      <td>2448.0</td>\n",
       "      <td>13.4</td>\n",
       "      <td>45.9608475114, 5.3729257777</td>\n",
       "      <td>{\"type\": \"Polygon\", \"coordinates\": [[[5.386190...</td>\n",
       "      <td>45.960848</td>\n",
       "      <td>5.372926</td>\n",
       "    </tr>\n",
       "    <tr>\n",
       "      <td>01005</td>\n",
       "      <td>01330</td>\n",
       "      <td>AMBERIEUX-EN-DOMBES</td>\n",
       "      <td>AIN</td>\n",
       "      <td>RHONE-ALPES</td>\n",
       "      <td>Commune simple</td>\n",
       "      <td>290.0</td>\n",
       "      <td>1605.0</td>\n",
       "      <td>1.6</td>\n",
       "      <td>45.9961799872, 4.91227250796</td>\n",
       "      <td>{\"type\": \"Polygon\", \"coordinates\": [[[4.895580...</td>\n",
       "      <td>45.996180</td>\n",
       "      <td>4.912273</td>\n",
       "    </tr>\n",
       "    <tr>\n",
       "      <td>01006</td>\n",
       "      <td>01300</td>\n",
       "      <td>AMBLEON</td>\n",
       "      <td>AIN</td>\n",
       "      <td>RHONE-ALPES</td>\n",
       "      <td>Commune simple</td>\n",
       "      <td>589.0</td>\n",
       "      <td>602.0</td>\n",
       "      <td>0.1</td>\n",
       "      <td>45.7494989044, 5.59432017366</td>\n",
       "      <td>{\"type\": \"Polygon\", \"coordinates\": [[[5.614854...</td>\n",
       "      <td>45.749499</td>\n",
       "      <td>5.594320</td>\n",
       "    </tr>\n",
       "  </tbody>\n",
       "</table>\n",
       "</div>"
      ],
      "text/plain": [
       "           Code Postal                  Commune Département       Région  \\\n",
       "Code INSEE                                                                 \n",
       "01001            01400  L'ABERGEMENT-CLEMENCIAT         AIN  RHONE-ALPES   \n",
       "01002            01640    L'ABERGEMENT-DE-VAREY         AIN  RHONE-ALPES   \n",
       "01004            01500        AMBERIEU-EN-BUGEY         AIN  RHONE-ALPES   \n",
       "01005            01330      AMBERIEUX-EN-DOMBES         AIN  RHONE-ALPES   \n",
       "01006            01300                  AMBLEON         AIN  RHONE-ALPES   \n",
       "\n",
       "                      Statut  Altitude Moyenne  Superficie  Population  \\\n",
       "Code INSEE                                                               \n",
       "01001         Commune simple             242.0      1565.0         0.8   \n",
       "01002         Commune simple             483.0       912.0         0.2   \n",
       "01004       Chef-lieu canton             379.0      2448.0        13.4   \n",
       "01005         Commune simple             290.0      1605.0         1.6   \n",
       "01006         Commune simple             589.0       602.0         0.1   \n",
       "\n",
       "                            geo_point_2d  \\\n",
       "Code INSEE                                 \n",
       "01001       46.1534255214, 4.92611354223   \n",
       "01002       46.0091878776, 5.42801696363   \n",
       "01004        45.9608475114, 5.3729257777   \n",
       "01005       45.9961799872, 4.91227250796   \n",
       "01006       45.7494989044, 5.59432017366   \n",
       "\n",
       "                                                    geo_shape   Latitude  \\\n",
       "Code INSEE                                                                 \n",
       "01001       {\"type\": \"Polygon\", \"coordinates\": [[[4.926273...  46.153426   \n",
       "01002       {\"type\": \"Polygon\", \"coordinates\": [[[5.430089...  46.009188   \n",
       "01004       {\"type\": \"Polygon\", \"coordinates\": [[[5.386190...  45.960848   \n",
       "01005       {\"type\": \"Polygon\", \"coordinates\": [[[4.895580...  45.996180   \n",
       "01006       {\"type\": \"Polygon\", \"coordinates\": [[[5.614854...  45.749499   \n",
       "\n",
       "            Longitude  \n",
       "Code INSEE             \n",
       "01001        4.926114  \n",
       "01002        5.428017  \n",
       "01004        5.372926  \n",
       "01005        4.912273  \n",
       "01006        5.594320  "
      ]
     },
     "execution_count": 2,
     "metadata": {},
     "output_type": "execute_result"
    }
   ],
   "source": [
    "# chargement et traitement des données\n",
    "geo = pd.read_csv(\"correspondance-code-insee-code-postal.csv\",\n",
    "                   sep=';',\n",
    "                   usecols=range(11),\n",
    "                   index_col=\"Code INSEE\")\n",
    "geo = geo.sort_index()\n",
    "geo[['Latitude', 'Longitude']] = geo[\"geo_point_2d\"].str.extract(\"(.*), (.*)\").astype(float)\n",
    "geo.head()"
   ]
  },
  {
   "cell_type": "markdown",
   "metadata": {},
   "source": [
    "**Projet maison n° 1**\n",
    "\n",
    "- Ajoutez une colonne 'CP Ville' avec le Code postal + un espace + et le nom de la Ville.\n",
    "- Ecrivez une fonction qui détermine la commune la plus proche d'un point à partir de sa latitude et sa longitude.\n",
    "- Ajoutez une fonction de conversion pour pouvoir utiliser la première fonction avec un GPS (degrés, minutes, secondes)."
   ]
  },
  {
   "cell_type": "code",
   "execution_count": 3,
   "metadata": {
    "scrolled": true
   },
   "outputs": [
    {
     "data": {
      "text/html": [
       "<div>\n",
       "<style scoped>\n",
       "    .dataframe tbody tr th:only-of-type {\n",
       "        vertical-align: middle;\n",
       "    }\n",
       "\n",
       "    .dataframe tbody tr th {\n",
       "        vertical-align: top;\n",
       "    }\n",
       "\n",
       "    .dataframe thead th {\n",
       "        text-align: right;\n",
       "    }\n",
       "</style>\n",
       "<table border=\"1\" class=\"dataframe\">\n",
       "  <thead>\n",
       "    <tr style=\"text-align: right;\">\n",
       "      <th></th>\n",
       "      <th>Code Postal</th>\n",
       "      <th>Commune</th>\n",
       "      <th>Département</th>\n",
       "      <th>Région</th>\n",
       "      <th>Statut</th>\n",
       "      <th>Altitude Moyenne</th>\n",
       "      <th>Superficie</th>\n",
       "      <th>Population</th>\n",
       "      <th>geo_point_2d</th>\n",
       "      <th>geo_shape</th>\n",
       "      <th>Latitude</th>\n",
       "      <th>Longitude</th>\n",
       "      <th>CP Ville</th>\n",
       "    </tr>\n",
       "    <tr>\n",
       "      <th>Code INSEE</th>\n",
       "      <th></th>\n",
       "      <th></th>\n",
       "      <th></th>\n",
       "      <th></th>\n",
       "      <th></th>\n",
       "      <th></th>\n",
       "      <th></th>\n",
       "      <th></th>\n",
       "      <th></th>\n",
       "      <th></th>\n",
       "      <th></th>\n",
       "      <th></th>\n",
       "      <th></th>\n",
       "    </tr>\n",
       "  </thead>\n",
       "  <tbody>\n",
       "    <tr>\n",
       "      <td>01001</td>\n",
       "      <td>01400</td>\n",
       "      <td>L'ABERGEMENT-CLEMENCIAT</td>\n",
       "      <td>AIN</td>\n",
       "      <td>RHONE-ALPES</td>\n",
       "      <td>Commune simple</td>\n",
       "      <td>242.0</td>\n",
       "      <td>1565.0</td>\n",
       "      <td>0.8</td>\n",
       "      <td>46.1534255214, 4.92611354223</td>\n",
       "      <td>{\"type\": \"Polygon\", \"coordinates\": [[[4.926273...</td>\n",
       "      <td>46.153426</td>\n",
       "      <td>4.926114</td>\n",
       "      <td>01400 L'ABERGEMENT-CLEMENCIAT</td>\n",
       "    </tr>\n",
       "    <tr>\n",
       "      <td>01002</td>\n",
       "      <td>01640</td>\n",
       "      <td>L'ABERGEMENT-DE-VAREY</td>\n",
       "      <td>AIN</td>\n",
       "      <td>RHONE-ALPES</td>\n",
       "      <td>Commune simple</td>\n",
       "      <td>483.0</td>\n",
       "      <td>912.0</td>\n",
       "      <td>0.2</td>\n",
       "      <td>46.0091878776, 5.42801696363</td>\n",
       "      <td>{\"type\": \"Polygon\", \"coordinates\": [[[5.430089...</td>\n",
       "      <td>46.009188</td>\n",
       "      <td>5.428017</td>\n",
       "      <td>01640 L'ABERGEMENT-DE-VAREY</td>\n",
       "    </tr>\n",
       "    <tr>\n",
       "      <td>01004</td>\n",
       "      <td>01500</td>\n",
       "      <td>AMBERIEU-EN-BUGEY</td>\n",
       "      <td>AIN</td>\n",
       "      <td>RHONE-ALPES</td>\n",
       "      <td>Chef-lieu canton</td>\n",
       "      <td>379.0</td>\n",
       "      <td>2448.0</td>\n",
       "      <td>13.4</td>\n",
       "      <td>45.9608475114, 5.3729257777</td>\n",
       "      <td>{\"type\": \"Polygon\", \"coordinates\": [[[5.386190...</td>\n",
       "      <td>45.960848</td>\n",
       "      <td>5.372926</td>\n",
       "      <td>01500 AMBERIEU-EN-BUGEY</td>\n",
       "    </tr>\n",
       "    <tr>\n",
       "      <td>01005</td>\n",
       "      <td>01330</td>\n",
       "      <td>AMBERIEUX-EN-DOMBES</td>\n",
       "      <td>AIN</td>\n",
       "      <td>RHONE-ALPES</td>\n",
       "      <td>Commune simple</td>\n",
       "      <td>290.0</td>\n",
       "      <td>1605.0</td>\n",
       "      <td>1.6</td>\n",
       "      <td>45.9961799872, 4.91227250796</td>\n",
       "      <td>{\"type\": \"Polygon\", \"coordinates\": [[[4.895580...</td>\n",
       "      <td>45.996180</td>\n",
       "      <td>4.912273</td>\n",
       "      <td>01330 AMBERIEUX-EN-DOMBES</td>\n",
       "    </tr>\n",
       "    <tr>\n",
       "      <td>01006</td>\n",
       "      <td>01300</td>\n",
       "      <td>AMBLEON</td>\n",
       "      <td>AIN</td>\n",
       "      <td>RHONE-ALPES</td>\n",
       "      <td>Commune simple</td>\n",
       "      <td>589.0</td>\n",
       "      <td>602.0</td>\n",
       "      <td>0.1</td>\n",
       "      <td>45.7494989044, 5.59432017366</td>\n",
       "      <td>{\"type\": \"Polygon\", \"coordinates\": [[[5.614854...</td>\n",
       "      <td>45.749499</td>\n",
       "      <td>5.594320</td>\n",
       "      <td>01300 AMBLEON</td>\n",
       "    </tr>\n",
       "  </tbody>\n",
       "</table>\n",
       "</div>"
      ],
      "text/plain": [
       "           Code Postal                  Commune Département       Région  \\\n",
       "Code INSEE                                                                 \n",
       "01001            01400  L'ABERGEMENT-CLEMENCIAT         AIN  RHONE-ALPES   \n",
       "01002            01640    L'ABERGEMENT-DE-VAREY         AIN  RHONE-ALPES   \n",
       "01004            01500        AMBERIEU-EN-BUGEY         AIN  RHONE-ALPES   \n",
       "01005            01330      AMBERIEUX-EN-DOMBES         AIN  RHONE-ALPES   \n",
       "01006            01300                  AMBLEON         AIN  RHONE-ALPES   \n",
       "\n",
       "                      Statut  Altitude Moyenne  Superficie  Population  \\\n",
       "Code INSEE                                                               \n",
       "01001         Commune simple             242.0      1565.0         0.8   \n",
       "01002         Commune simple             483.0       912.0         0.2   \n",
       "01004       Chef-lieu canton             379.0      2448.0        13.4   \n",
       "01005         Commune simple             290.0      1605.0         1.6   \n",
       "01006         Commune simple             589.0       602.0         0.1   \n",
       "\n",
       "                            geo_point_2d  \\\n",
       "Code INSEE                                 \n",
       "01001       46.1534255214, 4.92611354223   \n",
       "01002       46.0091878776, 5.42801696363   \n",
       "01004        45.9608475114, 5.3729257777   \n",
       "01005       45.9961799872, 4.91227250796   \n",
       "01006       45.7494989044, 5.59432017366   \n",
       "\n",
       "                                                    geo_shape   Latitude  \\\n",
       "Code INSEE                                                                 \n",
       "01001       {\"type\": \"Polygon\", \"coordinates\": [[[4.926273...  46.153426   \n",
       "01002       {\"type\": \"Polygon\", \"coordinates\": [[[5.430089...  46.009188   \n",
       "01004       {\"type\": \"Polygon\", \"coordinates\": [[[5.386190...  45.960848   \n",
       "01005       {\"type\": \"Polygon\", \"coordinates\": [[[4.895580...  45.996180   \n",
       "01006       {\"type\": \"Polygon\", \"coordinates\": [[[5.614854...  45.749499   \n",
       "\n",
       "            Longitude                       CP Ville  \n",
       "Code INSEE                                            \n",
       "01001        4.926114  01400 L'ABERGEMENT-CLEMENCIAT  \n",
       "01002        5.428017    01640 L'ABERGEMENT-DE-VAREY  \n",
       "01004        5.372926        01500 AMBERIEU-EN-BUGEY  \n",
       "01005        4.912273      01330 AMBERIEUX-EN-DOMBES  \n",
       "01006        5.594320                  01300 AMBLEON  "
      ]
     },
     "execution_count": 3,
     "metadata": {},
     "output_type": "execute_result"
    }
   ],
   "source": [
    "#Ajoutez une colonne 'CP Ville' avec le Code postal + un espace + et le nom de la Ville.\n",
    "geo['CP Ville'] = geo['Code Postal'] + \" \" + geo['Commune']\n",
    "geo.head()"
   ]
  },
  {
   "cell_type": "code",
   "execution_count": 4,
   "metadata": {
    "scrolled": false
   },
   "outputs": [],
   "source": [
    "# fonction recherche de ville\n",
    "def ville(lat, long):\n",
    "    #Calcul distance entre 2 points\n",
    "    dtlat = geo['Latitude'].apply(lambda x: (x-lat)**2)\n",
    "    dtlong = geo['Longitude'].apply(lambda y : (y-long)**2)\n",
    "    dist = np.sqrt(dtlat + dtlong)\n",
    "    #renvoie de la ville avec la distance minimale\n",
    "    return geo.loc[dist.idxmin(), 'Commune']"
   ]
  },
  {
   "cell_type": "code",
   "execution_count": 5,
   "metadata": {
    "scrolled": false
   },
   "outputs": [
    {
     "data": {
      "text/plain": [
       "'BOSJEAN'"
      ]
     },
     "execution_count": 5,
     "metadata": {},
     "output_type": "execute_result"
    }
   ],
   "source": [
    "# on applique la fonction à une coordonnée tirée au hasard\n",
    "np.random.seed(0)\n",
    "a, b = 41.5, 51.1  # latitude min et max de la France métropolitaine\n",
    "lat = (b - a) * np.random.random() + a\n",
    "a, b = -5.1, 9.5  # longitude min et max de la France métropolitaine\n",
    "long = (b - a) * np.random.random() + a\n",
    "\n",
    "ville(lat, long)"
   ]
  },
  {
   "cell_type": "code",
   "execution_count": 6,
   "metadata": {
    "scrolled": false
   },
   "outputs": [],
   "source": [
    "# conversion degrés, minutes, secondes => décimal\n",
    "def dms2dec(deg, mn, sec):\n",
    "    return (deg+(mn + sec/60)/60)"
   ]
  },
  {
   "cell_type": "code",
   "execution_count": 7,
   "metadata": {
    "scrolled": false
   },
   "outputs": [
    {
     "data": {
      "text/plain": [
       "'PALAISEAU'"
      ]
     },
     "execution_count": 7,
     "metadata": {},
     "output_type": "execute_result"
    }
   ],
   "source": [
    "# à partir de coordonnées GPS précises\n",
    "ville(dms2dec(48, 42, 52), dms2dec(2, 14, 45))"
   ]
  },
  {
   "cell_type": "markdown",
   "metadata": {},
   "source": [
    "**Projet maison n° 2**\n",
    "\n",
    "La colonne \"geo_shape\" comporte des chaines de catactères au format JSON. Elles représentent les formes géométriques des communes qui sont soit des polygones soit composées de plusieurs polygones.\n",
    "\n",
    "- Utiliser la librairie Python json pour parser la colonne \"geo_shape\".\n",
    "- Donner le décompte des valeurs accédées avec la clé \"type\".\n",
    "- Donner le décompte des longueurs des listes accédées avec la clé \"coordinates\".\n",
    "- Quelle commune est la plus complexe géométriquement ?\n",
    "- Quelle commune est la seconde la plus complexe géométriquement ?\n",
    "- Quelles sont les villes qui sont de type \"Polygon\" mais dont la longueur des listes accédées avec la clé \"coordinates\" vaut 2 ?\n",
    "- Pour ces villes vérifier que le premier polygone contient bien le second (enclave). NB : installer la librairie shapely, utiliser la classe Polygon de shapely.geometry. Sur Windows shapely peut nécessiter d'installer la dll \"geos_c.dll\" dans le répertoire \"Library/bin\" de votre environnement Python."
   ]
  },
  {
   "cell_type": "code",
   "execution_count": 8,
   "metadata": {},
   "outputs": [],
   "source": [
    "#Utiliser la librairie Python json pour parser la colonne \"geo_shape\".\n",
    "import json\n",
    "geo_shape = geo['geo_shape'].apply(lambda x: json.loads(x))\n",
    "geo['geo_shape_type'] = geo_shape.apply(lambda x: x['type'])\n",
    "geo['geo_shape_coordinates'] = geo_shape.apply(lambda x: x['coordinates'])"
   ]
  },
  {
   "cell_type": "code",
   "execution_count": 9,
   "metadata": {},
   "outputs": [
    {
     "data": {
      "text/html": [
       "<div>\n",
       "<style scoped>\n",
       "    .dataframe tbody tr th:only-of-type {\n",
       "        vertical-align: middle;\n",
       "    }\n",
       "\n",
       "    .dataframe tbody tr th {\n",
       "        vertical-align: top;\n",
       "    }\n",
       "\n",
       "    .dataframe thead th {\n",
       "        text-align: right;\n",
       "    }\n",
       "</style>\n",
       "<table border=\"1\" class=\"dataframe\">\n",
       "  <thead>\n",
       "    <tr style=\"text-align: right;\">\n",
       "      <th></th>\n",
       "      <th>Code Postal</th>\n",
       "      <th>Commune</th>\n",
       "      <th>Département</th>\n",
       "      <th>Région</th>\n",
       "      <th>Statut</th>\n",
       "      <th>Altitude Moyenne</th>\n",
       "      <th>Superficie</th>\n",
       "      <th>Population</th>\n",
       "      <th>geo_point_2d</th>\n",
       "      <th>geo_shape</th>\n",
       "      <th>Latitude</th>\n",
       "      <th>Longitude</th>\n",
       "      <th>CP Ville</th>\n",
       "      <th>geo_shape_type</th>\n",
       "      <th>geo_shape_coordinates</th>\n",
       "    </tr>\n",
       "    <tr>\n",
       "      <th>Code INSEE</th>\n",
       "      <th></th>\n",
       "      <th></th>\n",
       "      <th></th>\n",
       "      <th></th>\n",
       "      <th></th>\n",
       "      <th></th>\n",
       "      <th></th>\n",
       "      <th></th>\n",
       "      <th></th>\n",
       "      <th></th>\n",
       "      <th></th>\n",
       "      <th></th>\n",
       "      <th></th>\n",
       "      <th></th>\n",
       "      <th></th>\n",
       "    </tr>\n",
       "  </thead>\n",
       "  <tbody>\n",
       "    <tr>\n",
       "      <td>01001</td>\n",
       "      <td>01400</td>\n",
       "      <td>L'ABERGEMENT-CLEMENCIAT</td>\n",
       "      <td>AIN</td>\n",
       "      <td>RHONE-ALPES</td>\n",
       "      <td>Commune simple</td>\n",
       "      <td>242.0</td>\n",
       "      <td>1565.0</td>\n",
       "      <td>0.8</td>\n",
       "      <td>46.1534255214, 4.92611354223</td>\n",
       "      <td>{\"type\": \"Polygon\", \"coordinates\": [[[4.926273...</td>\n",
       "      <td>46.153426</td>\n",
       "      <td>4.926114</td>\n",
       "      <td>01400 L'ABERGEMENT-CLEMENCIAT</td>\n",
       "      <td>Polygon</td>\n",
       "      <td>[[[4.92627342692396, 46.1200517234555], [4.921...</td>\n",
       "    </tr>\n",
       "    <tr>\n",
       "      <td>01002</td>\n",
       "      <td>01640</td>\n",
       "      <td>L'ABERGEMENT-DE-VAREY</td>\n",
       "      <td>AIN</td>\n",
       "      <td>RHONE-ALPES</td>\n",
       "      <td>Commune simple</td>\n",
       "      <td>483.0</td>\n",
       "      <td>912.0</td>\n",
       "      <td>0.2</td>\n",
       "      <td>46.0091878776, 5.42801696363</td>\n",
       "      <td>{\"type\": \"Polygon\", \"coordinates\": [[[5.430089...</td>\n",
       "      <td>46.009188</td>\n",
       "      <td>5.428017</td>\n",
       "      <td>01640 L'ABERGEMENT-DE-VAREY</td>\n",
       "      <td>Polygon</td>\n",
       "      <td>[[[5.430089291292173, 45.98275997279625], [5.4...</td>\n",
       "    </tr>\n",
       "  </tbody>\n",
       "</table>\n",
       "</div>"
      ],
      "text/plain": [
       "           Code Postal                  Commune Département       Région  \\\n",
       "Code INSEE                                                                 \n",
       "01001            01400  L'ABERGEMENT-CLEMENCIAT         AIN  RHONE-ALPES   \n",
       "01002            01640    L'ABERGEMENT-DE-VAREY         AIN  RHONE-ALPES   \n",
       "\n",
       "                    Statut  Altitude Moyenne  Superficie  Population  \\\n",
       "Code INSEE                                                             \n",
       "01001       Commune simple             242.0      1565.0         0.8   \n",
       "01002       Commune simple             483.0       912.0         0.2   \n",
       "\n",
       "                            geo_point_2d  \\\n",
       "Code INSEE                                 \n",
       "01001       46.1534255214, 4.92611354223   \n",
       "01002       46.0091878776, 5.42801696363   \n",
       "\n",
       "                                                    geo_shape   Latitude  \\\n",
       "Code INSEE                                                                 \n",
       "01001       {\"type\": \"Polygon\", \"coordinates\": [[[4.926273...  46.153426   \n",
       "01002       {\"type\": \"Polygon\", \"coordinates\": [[[5.430089...  46.009188   \n",
       "\n",
       "            Longitude                       CP Ville geo_shape_type  \\\n",
       "Code INSEE                                                            \n",
       "01001        4.926114  01400 L'ABERGEMENT-CLEMENCIAT        Polygon   \n",
       "01002        5.428017    01640 L'ABERGEMENT-DE-VAREY        Polygon   \n",
       "\n",
       "                                        geo_shape_coordinates  \n",
       "Code INSEE                                                     \n",
       "01001       [[[4.92627342692396, 46.1200517234555], [4.921...  \n",
       "01002       [[[5.430089291292173, 45.98275997279625], [5.4...  "
      ]
     },
     "execution_count": 9,
     "metadata": {},
     "output_type": "execute_result"
    }
   ],
   "source": [
    "geo.head(2)"
   ]
  },
  {
   "cell_type": "code",
   "execution_count": 10,
   "metadata": {
    "scrolled": true
   },
   "outputs": [
    {
     "data": {
      "text/plain": [
       "Polygon         36670\n",
       "MultiPolygon       72\n",
       "Name: geo_shape_type, dtype: int64"
      ]
     },
     "execution_count": 10,
     "metadata": {},
     "output_type": "execute_result"
    }
   ],
   "source": [
    "#Donner le décompte des valeurs accédées avec la clé \"type\".\n",
    "geo['geo_shape_type'].value_counts()"
   ]
  },
  {
   "cell_type": "code",
   "execution_count": 11,
   "metadata": {},
   "outputs": [
    {
     "data": {
      "text/plain": [
       "1    36660\n",
       "2       80\n",
       "4        1\n",
       "3        1\n",
       "Name: geo_shape_coordinates, dtype: int64"
      ]
     },
     "execution_count": 11,
     "metadata": {},
     "output_type": "execute_result"
    }
   ],
   "source": [
    "#Donner le décompte des longueurs des listes accédées avec la clé \"coordinates\".\n",
    "long = geo['geo_shape_coordinates'].apply(len)\n",
    "long.value_counts()"
   ]
  },
  {
   "cell_type": "code",
   "execution_count": 12,
   "metadata": {},
   "outputs": [
    {
     "data": {
      "text/plain": [
       "Code INSEE\n",
       "83069    HYERES\n",
       "Name: Commune, dtype: object"
      ]
     },
     "execution_count": 12,
     "metadata": {},
     "output_type": "execute_result"
    }
   ],
   "source": [
    "#Quelle commune est la plus complexe géométriquement ?\n",
    "geo.loc[geo['geo_shape_coordinates'].apply(len) == 4,'Commune']"
   ]
  },
  {
   "cell_type": "code",
   "execution_count": 13,
   "metadata": {},
   "outputs": [
    {
     "data": {
      "text/plain": [
       "Code INSEE\n",
       "27701    VAL-DE-REUIL\n",
       "Name: Commune, dtype: object"
      ]
     },
     "execution_count": 13,
     "metadata": {},
     "output_type": "execute_result"
    }
   ],
   "source": [
    "#Quelle commune est la seconde la plus complexe géométriquement ?\n",
    "geo.loc[geo['geo_shape_coordinates'].apply(len) == 3,'Commune']"
   ]
  },
  {
   "cell_type": "code",
   "execution_count": 14,
   "metadata": {},
   "outputs": [
    {
     "data": {
      "text/plain": [
       "Code INSEE\n",
       "02232               COYOLLES\n",
       "05052               EYGLIERS\n",
       "09042    LA BASTIDE-DE-SEROU\n",
       "22209              PLOUBALAY\n",
       "2A272                SARTENE\n",
       "2B049              CALENZANA\n",
       "48080               LANGOGNE\n",
       "67486              SUNDHOUSE\n",
       "68078              EGUISHEIM\n",
       "71028            BEAUVERNOIS\n",
       "Name: Commune, dtype: object"
      ]
     },
     "execution_count": 14,
     "metadata": {},
     "output_type": "execute_result"
    }
   ],
   "source": [
    "#Quelles sont les villes qui sont de type \"Polygon\" \n",
    "#mais dont la longueur des listes accédées avec la clé \"coordinates\" vaut 2 ?\n",
    "villePC2 = geo.loc[(geo['geo_shape_type'] == \"Polygon\") & (geo['geo_shape_coordinates'].apply(len) == 2),'Commune']\n",
    "villePC2"
   ]
  },
  {
   "cell_type": "code",
   "execution_count": 15,
   "metadata": {},
   "outputs": [
    {
     "name": "stdout",
     "output_type": "stream",
     "text": [
      "Commune:  COYOLLES\n",
      "Polygone 2 enclave du Polygone 1\n",
      "Commune:  EYGLIERS\n",
      "Polygone 2 enclave du Polygone 1\n",
      "Commune:  LA BASTIDE-DE-SEROU\n",
      "Polygone 2 enclave du Polygone 1\n",
      "Commune:  PLOUBALAY\n",
      "Polygone 2 enclave du Polygone 1\n",
      "Commune:  SARTENE\n",
      "Polygone 2 enclave du Polygone 1\n",
      "Commune:  CALENZANA\n",
      "Polygone 2 enclave du Polygone 1\n",
      "Commune:  LANGOGNE\n",
      "Polygone 2 enclave du Polygone 1\n",
      "Commune:  SUNDHOUSE\n",
      "Polygone 2 enclave du Polygone 1\n",
      "Commune:  EGUISHEIM\n",
      "Polygone 2 enclave du Polygone 1\n",
      "Commune:  BEAUVERNOIS\n",
      "Polygone 2 enclave du Polygone 1\n"
     ]
    }
   ],
   "source": [
    "#Pour ces villes vérifier que le premier polygone contient bien le second (enclave).\n",
    "from shapely.geometry import Polygon\n",
    "#index code INSEE de villePC2\n",
    "for idInsee in villePC2.index:\n",
    "    print(\"Commune: \", geo.loc[idInsee, 'Commune'])\n",
    "    if Polygon(geo.loc[idInsee, 'geo_shape_coordinates'][1]).area\\\n",
    "    <= Polygon(geo.loc[idInsee, 'geo_shape_coordinates'][0]).area:\n",
    "        print(\"Polygone 2 enclave du Polygone 1\")\n",
    "    else:\n",
    "        print(\"Polygone 2 n'est pas une enclave du Polygone 1\")"
   ]
  }
 ],
 "metadata": {
  "anaconda-cloud": {},
  "kernelspec": {
   "display_name": "Python 3",
   "language": "python",
   "name": "python3"
  },
  "language_info": {
   "codemirror_mode": {
    "name": "ipython",
    "version": 3
   },
   "file_extension": ".py",
   "mimetype": "text/x-python",
   "name": "python",
   "nbconvert_exporter": "python",
   "pygments_lexer": "ipython3",
   "version": "3.7.4"
  }
 },
 "nbformat": 4,
 "nbformat_minor": 1
}
